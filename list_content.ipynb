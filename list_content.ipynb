{
 "cells": [
  {
   "cell_type": "code",
   "execution_count": 16,
   "metadata": {
    "collapsed": true
   },
   "outputs": [],
   "source": [
    "from arcgis.gis import GIS\n",
    "try:\n",
    "    from ujson import loads\n",
    "except ModuleNotFoundError:\n",
    "    from json import loads\n",
    "\n",
    "\n",
    "# load credentials\n",
    "f = open('credentials.json', \"r\")\n",
    "credentials = loads(f.read())\n",
    "# Closing file\n",
    "f.close()\n",
    "\n",
    "portal = credentials['portal']\n",
    "username = credentials['username']\n",
    "password = credentials['password']\n",
    "\n",
    "gis = GIS(portal, username, password, verify_cert=False)"
   ]
  },
  {
   "cell_type": "markdown",
   "source": [
    "List Users in Org"
   ],
   "metadata": {
    "collapsed": false
   }
  },
  {
   "cell_type": "code",
   "execution_count": 17,
   "outputs": [
    {
     "name": "stdout",
     "output_type": "stream",
     "text": [
      "detected 181 users in https://ivt.maps.arcgis.com org\n",
      "[<User username:a.giles_IVT>, <User username:aazerki_IVT>, <User username:ABong_IVT>, <User username:achapkowski_IVT>, <User username:acrawford_IVT>, <User username:adoan@esri.com>, <User username:adoshi_IVT>, <User username:aevenpaz_IVT>, <User username:ALeason_IVT>, <User username:alohec@esri.com>, <User username:amason2_IVT>, <User username:amason_IVT>, <User username:ameriaux_IVT>, <User username:ankit_IVT>, <User username:arobledo_IVT>, <User username:atecpoyotl_IVT>, <User username:bconnolly_IVT>, <User username:BenkelmanIVT>, <User username:bfilippin_IVT>, <User username:bgerlt_IVT>, <User username:blegeer_IVT>, <User username:boneill_ivt>, <User username:BPiersol_IVT>, <User username:camilo.cortes_IVT>, <User username:CAndrews_IVT>, <User username:carrera_ivt>, <User username:cbeck_IVT>, <User username:ccardona_imagery>, <User username:cchavis_IVT>, <User username:ccortes_IVT>, <User username:cerikson_IVT>, <User username:cfowler_IVT>, <User username:charder_imagery>, <User username:clopez_IVT>, <User username:CraigCleveland_IVT>, <User username:csousa_IVT>, <User username:ctran_IVT>, <User username:cwoodside_IVT>, <User username:d.faherty>, <User username:d.wright_IVT>, <User username:D2M_IVT>, <User username:daltergott_IVT>, <User username:dattaway_imgportal>, <User username:david_johnson_IVT>, <User username:delhidev_ivt>, <User username:dmalakhov@esri.com>, <User username:dmalakhov_IVT>, <User username:dsilva_IVT>, <User username:dvaillancourt_IVT>, <User username:dzimble_IVT>, <User username:eamaya_IVT>, <User username:eguido_IVT>, <User username:epc_IVT>, <User username:eric_IVT>, <User username:Esri_ImageryTeam>, <User username:etakow_IVT>, <User username:etakow_IVT4>, <User username:EWindahl_IVT>, <User username:ffischer_IVT>, <User username:flucaciu_IVT>, <User username:fpaya_IVT>, <User username:fsomarriba_IVT>, <User username:GDoerffel_IVT>, <User username:GKinn_Imagery>, <User username:gregbrunner_imagery>, <User username:gtaylor_IVT>, <User username:huangy_IVT>, <User username:imageryuc>, <User username:jarcher_IVT>, <User username:jdrisdelle_IVT>, <User username:jeremiahjohnson_IVT>, <User username:jgrayson_IVT>, <User username:Jie_zhang_ivt>, <User username:jliedtke_imagery>, <User username:jnieto_IVT>, <User username:jorge.martinez_IVT>, <User username:Joseph_Peters_IVT>, <User username:jpedder_IVT>, <User username:jpeppard_IVT7>, <User username:jschuyler_IVT>, <User username:JSullivan_IVT>, <User username:JTedrick_IVT>, <User username:jt_IVT>, <User username:julia.lenhardt>, <User username:jweaver_IVT>, <User username:jwells_IVT>, <User username:Jyoon_ivt>, <User username:karmstrong_IVT>, <User username:KGoodman_IVT>, <User username:khess_IVT>, <User username:KHocutt_IVT>, <User username:KHocutt_IVT2>, <User username:kholleran_IVT>, <User username:khoppe_IVT>, <User username:KLevy_IVT>, <User username:kmehall@esri.com>, <User username:kmitchell_IVT>, <User username:kmongeon_IVT>, <User username:kplaggemars_IVT>, <User username:kschwoppe_imagery>, <User username:ktalbot_IVT>, <User username:kushagrapatel493_IVT>, <User username:lawriejordan2012>, <User username:lgaede_IVT>, <User username:lgraham_IVT>, <User username:lpeters_IVT>, <User username:ltang_IVT>, <User username:lwinter@esri.com>, <User username:lzhang_IVT>, <User username:markebuie>, <User username:mbrock_IVT>, <User username:mbuie_IVT>, <User username:megert_IVT>, <User username:mfernandes_ivt>, <User username:mharlow_image>, <User username:Mharris_IVT>, <User username:mhorn@esri.com>, <User username:mma_IVT>, <User username:Monika_IVT>, <User username:mozenberger_IVT>, <User username:MSchueren_IVT>, <User username:MWalther_Rodriguez_IVT>, <User username:MWoodlief_IVT>, <User username:myu_IVT>, <User username:nbonnafoux_IVT>, <User username:nbrown_IVT>, <User username:NewUser_IVT>, <User username:nfeuerstein_IVT>, <User username:nkadioglu@esri.com>, <User username:NoSpatial_IVT>, <User username:nwallingford_IVT>, <User username:omaher_IVT>, <User username:pbecker_IVT>, <User username:pmangtani_IVT>, <User username:pobrien_imagery>, <User username:Prashant_IVT>, <User username:proyal_IVT>, <User username:ptuteja_IVT>, <User username:rasterteam_ivt>, <User username:RasterUC1>, <User username:RBernstein_IVT>, <User username:rcooke_IVT>, <User username:rdunn_IVT>, <User username:rdunn_IVT6>, <User username:ringu_IVT>, <User username:ringu_IVT6>, <User username:romeroma>, <User username:rrivera2_IVT>, <User username:rrivera3_IVT>, <User username:rrivera_IVT>, <User username:rrivera_IVT2>, <User username:rrobinson@esri.com>, <User username:rsims@esri.com>, <User username:rsinha_IVT>, <User username:rsinha_IVT_SPro>, <User username:rsinha_IVT_Win7>, <User username:rsinha_IVT_Win8>, <User username:sblack_IVT>, <User username:sbreyer_rt>, <User username:simon_IVT>, <User username:skopp_IVT>, <User username:slambert_IVT>, <User username:slesiv@esri.com>, <User username:smathew_IVT>, <User username:sschwoppe_IVT>, <User username:sshrestha_IVT>, <User username:ssnow_IVT>, <User username:SWalbridge_IVT>, <User username:tabbenhaus_imagery>, <User username:temge_IVT>, <User username:ThomasMaurer>, <User username:tmason_IVT>, <User username:tmuckey_IVT>, <User username:tsmith_IVT>, <User username:tsweet_IVT>, <User username:usda_ivt>, <User username:vbajaj_IVT>, <User username:vinayv_IVT9>, <User username:vinay_ivt>, <User username:weffat_IVT>, <User username:yjiang_IVT>]\n"
     ]
    }
   ],
   "source": [
    "#  users = [u.username for u in gis.users.search(query='*')]\n",
    "users = gis.users.search(max_users=1000)\n",
    "print(\"detected {0} users in {1} org\".format(len(users), portal))\n",
    "print(users)\n"
   ],
   "metadata": {
    "collapsed": false,
    "pycharm": {
     "name": "#%%\n"
    }
   }
  },
  {
   "cell_type": "markdown",
   "source": [
    "List All Users Privileges"
   ],
   "metadata": {
    "collapsed": false
   }
  },
  {
   "cell_type": "code",
   "execution_count": 18,
   "outputs": [
    {
     "data": {
      "text/plain": "'\\nprivileges = [[u.username, u.privileges] for u in users]\\nprint(privileges)\\n'"
     },
     "execution_count": 18,
     "metadata": {},
     "output_type": "execute_result"
    }
   ],
   "source": [
    "privileges = [[u.username, u.privileges] for u in users]\n",
    "print(privileges)\n"
   ],
   "metadata": {
    "collapsed": false,
    "pycharm": {
     "name": "#%%\n"
    }
   }
  },
  {
   "cell_type": "markdown",
   "source": [
    "List all Users Items"
   ],
   "metadata": {
    "collapsed": false
   }
  },
  {
   "cell_type": "code",
   "execution_count": null,
   "outputs": [
    {
     "data": {
      "text/plain": "HBox(children=(HTML(value=''), FloatProgress(value=0.0, max=181.0), HTML(value='')))",
      "application/vnd.jupyter.widget-view+json": {
       "version_major": 2,
       "version_minor": 0,
       "model_id": "4ae3ea520e5d4f0ca011141f7e44cfa3"
      }
     },
     "metadata": {},
     "output_type": "display_data"
    }
   ],
   "source": [
    "from tqdm.notebook import tqdm # For Status Bar\n",
    "\n",
    "\n",
    "def get_most_recent_usage_date(item_info):\n",
    "    try:\n",
    "        my_info = item_info.usage(date_range='1Y', as_df=False)\n",
    "        for n in range(len(my_info)):\n",
    "            i = my_info[n]\n",
    "            if i['data']:\n",
    "                return i['startTime']\n",
    "            if not i['data'] and n == len(my_info):\n",
    "                return None\n",
    "    except IndexError:\n",
    "        return None\n",
    "\n",
    "\n",
    "def get_items(user, get_usage=False):\n",
    "    list_items = []\n",
    "    user_items = user.items()\n",
    "    for item in user_items:\n",
    "        item_id = item.itemid\n",
    "        item_info = gis.content.get(item_id)\n",
    "        accessibility = item_info.access\n",
    "        if get_usage:\n",
    "            recent_usage = get_most_recent_usage_date(item_info)\n",
    "            list_items.append([item.title, item.type, item_id, accessibility, recent_usage])\n",
    "        else:\n",
    "            list_items.append([user.username, item.title, item.type, item_id, accessibility])\n",
    "    return list_items\n",
    "\n",
    "\n",
    "def get_all_items(users, get_usage=False):\n",
    "    master_list = []\n",
    "    for i in tqdm(range(len(users))):\n",
    "        user = users[i]\n",
    "        item_list = get_items(user, get_usage)\n",
    "        master_list.append(item_list)\n",
    "    return master_list\n",
    "\n",
    "\n",
    "''' Note enabling get_usage takes a long... long... real long time to process as every item must be queried individually '''\n",
    "all_items = get_all_items(users, get_usage=False)"
   ],
   "metadata": {
    "collapsed": false,
    "pycharm": {
     "name": "#%%\n",
     "is_executing": true
    }
   }
  },
  {
   "cell_type": "markdown",
   "source": [
    "Convert items to pandas dataframe and export as csv"
   ],
   "metadata": {
    "collapsed": false
   }
  },
  {
   "cell_type": "code",
   "execution_count": null,
   "outputs": [],
   "source": [
    "out_csv = r'fill_in_your_path_and_file_name_here.csv' # Just set output file\n",
    "\n",
    "df = pd.DataFrame(all_items)\n",
    "df.to_csv(out_csv, index=False)\n",
    "\n",
    "print(\"output csv to {}\".format(out_csv))"
   ],
   "metadata": {
    "collapsed": false,
    "pycharm": {
     "name": "#%%\n"
    }
   }
  }
 ],
 "metadata": {
  "kernelspec": {
   "display_name": "Python 3",
   "language": "python",
   "name": "python3"
  },
  "language_info": {
   "codemirror_mode": {
    "name": "ipython",
    "version": 2
   },
   "file_extension": ".py",
   "mimetype": "text/x-python",
   "name": "python",
   "nbconvert_exporter": "python",
   "pygments_lexer": "ipython2",
   "version": "2.7.6"
  }
 },
 "nbformat": 4,
 "nbformat_minor": 0
}