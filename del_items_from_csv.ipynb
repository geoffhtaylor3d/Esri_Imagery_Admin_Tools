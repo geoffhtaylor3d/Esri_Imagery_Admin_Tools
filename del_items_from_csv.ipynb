{
 "cells": [
  {
   "cell_type": "code",
   "execution_count": null,
   "outputs": [],
   "source": [
    "from arcgis.gis import GIS\n",
    "\n",
    "# load credentials\n",
    "f = open('credentials.json', \"r\")\n",
    "credentials = loads(f.read())\n",
    "# Closing file\n",
    "f.close()\n",
    "\n",
    "portal = credentials['portal']\n",
    "username = credentials['username']\n",
    "password = credentials['password']\n",
    "\n",
    "gis = GIS(portal, username, password, verify_cert=False)\n"
   ],
   "metadata": {
    "collapsed": false,
    "pycharm": {
     "name": "#%%\n"
    }
   }
  },
  {
   "cell_type": "markdown",
   "source": [
    "Delete items from CSV"
   ],
   "metadata": {
    "collapsed": false
   }
  },
  {
   "cell_type": "code",
   "execution_count": null,
   "outputs": [],
   "source": [
    "def del_items_from_csv(in_csv, itemID_Column, delimeter):\n",
    "    with open(in_csv) as csv_file:\n",
    "        csv_reader = csv.reader(csv_file, delimiter=delimeter)\n",
    "        num_items = len(list(csv_reader))\n",
    "        count = 0\n",
    "        for row in csv_reader:\n",
    "            try:\n",
    "                item_for_deletion = gis.content.get(row[itemID_Column])\n",
    "                item_for_deletion.delete()\n",
    "                print(\"{0} complete: successfully deleted item {1} of {2}\".format((count/num_items), count, num_items))\n",
    "            except:  # TODO: Resolve broad exception f\n",
    "                print(\"Failed to delete item {1}\".format(ount, row[itemID_Column]))\n",
    "            count += 1\n",
    "        print(\"process complete\")\n",
    "\n",
    "in_csv = r''\n",
    "itemID_Column = 0\n",
    "delimeter = ','\n",
    "\n",
    "del_items_from_csv(in_csv, itemID_Column, delimeter)\n"
   ],
   "metadata": {
    "collapsed": false,
    "pycharm": {
     "name": "#%%\n"
    }
   }
  }
 ],
 "metadata": {
  "kernelspec": {
   "display_name": "Python 3",
   "language": "python",
   "name": "python3"
  },
  "language_info": {
   "codemirror_mode": {
    "name": "ipython",
    "version": 2
   },
   "file_extension": ".py",
   "mimetype": "text/x-python",
   "name": "python",
   "nbconvert_exporter": "python",
   "pygments_lexer": "ipython2",
   "version": "2.7.6"
  }
 },
 "nbformat": 4,
 "nbformat_minor": 0
}